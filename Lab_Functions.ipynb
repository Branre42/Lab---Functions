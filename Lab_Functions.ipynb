{
  "nbformat": 4,
  "nbformat_minor": 0,
  "metadata": {
    "colab": {
      "provenance": [],
      "authorship_tag": "ABX9TyNprHHziVDd+D5qHs+Ub5E7",
      "include_colab_link": true
    },
    "kernelspec": {
      "name": "python3",
      "display_name": "Python 3"
    },
    "language_info": {
      "name": "python"
    }
  },
  "cells": [
    {
      "cell_type": "markdown",
      "metadata": {
        "id": "view-in-github",
        "colab_type": "text"
      },
      "source": [
        "<a href=\"https://colab.research.google.com/github/Branre42/Lab---Functions/blob/main/Lab_Functions.ipynb\" target=\"_parent\"><img src=\"https://colab.research.google.com/assets/colab-badge.svg\" alt=\"Open In Colab\"/></a>"
      ]
    },
    {
      "cell_type": "code",
      "execution_count": 8,
      "metadata": {
        "id": "W_NZXrV7hHUA"
      },
      "outputs": [],
      "source": [
        "#Come up with a function that divides the first input by the second input:\n",
        "a =2\n",
        "b=2\n",
        "\n",
        "def div(a,b):\n",
        "  return (a/b)\n",
        "\n",
        "\n"
      ]
    },
    {
      "cell_type": "code",
      "source": [
        "# Use the con function for the following question\n",
        "\n",
        "def con(a, b):\n",
        "    return(a + b)\n",
        "\n",
        "eg = con (3,5)\n",
        "print (eg)\n",
        "\n",
        "eg2 = con (\"Hello\", \"World\")\n",
        "print (eg2)\n",
        "# Can the con function we defined before be used to add two integers or strings?\n",
        "# Yes, we can\n"
      ],
      "metadata": {
        "colab": {
          "base_uri": "https://localhost:8080/"
        },
        "id": "_htDUmblj1mj",
        "outputId": "4a48596e-be04-49e7-c1b7-5527e670d406"
      },
      "execution_count": 15,
      "outputs": [
        {
          "output_type": "stream",
          "name": "stdout",
          "text": [
            "8\n",
            "HelloWorld\n"
          ]
        }
      ]
    },
    {
      "cell_type": "code",
      "source": [
        "#Can the <code>con</code> function we defined before be used to concatenate lists or tuples?\n",
        "#yes\n",
        "def con(a, b):\n",
        "    return a + b\n",
        "\n",
        "# Eg\n",
        "lst1 = [1, 2, 3]\n",
        "lst2 = [4, 5, 6]\n",
        "r_lists = con(lst1, lst2)\n",
        "print(r_lists)"
      ],
      "metadata": {
        "colab": {
          "base_uri": "https://localhost:8080/"
        },
        "id": "NX07h1HPkifC",
        "outputId": "cde34b73-125a-4bc9-d922-b3fc42b2e920"
      },
      "execution_count": 17,
      "outputs": [
        {
          "output_type": "stream",
          "name": "stdout",
          "text": [
            "[1, 2, 3, 4, 5, 6]\n"
          ]
        }
      ]
    },
    {
      "cell_type": "code",
      "source": [
        "def count_little(word, text):\n",
        "    text = text.lower()\n",
        "    words = text.split()\n",
        "    return words.count(word)\n",
        "# Given string\n",
        "text = \"\"\"Mary had a little lamb Little lamb, little lamb Mary had a little lamb.\n",
        "Its fleece was white as snow And everywhere that Mary went Mary went, Mary went\n",
        "Everywhere that Mary went The lamb was sure to go\"\"\"\n",
        "# Call the function to count occurrences of the word \"little\"\n",
        "result = count_little(\"little\", text)\n",
        "print(\"Total count of the word 'little':\", result)"
      ],
      "metadata": {
        "colab": {
          "base_uri": "https://localhost:8080/"
        },
        "id": "CwOQ3pqMmFxb",
        "outputId": "c47dba85-7beb-406a-f808-8d288236810a"
      },
      "execution_count": 18,
      "outputs": [
        {
          "output_type": "stream",
          "name": "stdout",
          "text": [
            "Total count of the word 'little': 4\n"
          ]
        }
      ]
    },
    {
      "cell_type": "code",
      "source": [],
      "metadata": {
        "colab": {
          "base_uri": "https://localhost:8080/"
        },
        "id": "UPv01glzmJSq",
        "outputId": "feefbe37-59ee-4df5-fd29-d8c046fc0a3b"
      },
      "execution_count": 19,
      "outputs": [
        {
          "output_type": "stream",
          "name": "stdout",
          "text": [
            "Total Count: {'little': 3}\n"
          ]
        }
      ]
    }
  ]
}